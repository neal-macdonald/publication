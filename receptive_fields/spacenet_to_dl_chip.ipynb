{
 "cells": [
  {
   "cell_type": "code",
   "execution_count": null,
   "metadata": {},
   "outputs": [],
   "source": [
    "import os\n",
    "import arcpy\n",
    "from PIL import Image\n",
    "import numpy as np"
   ]
  },
  {
   "cell_type": "code",
   "execution_count": null,
   "metadata": {},
   "outputs": [],
   "source": [
    "folder = r\"\" # Folder containing the Spacenet dataset"
   ]
  },
  {
   "cell_type": "code",
   "execution_count": null,
   "metadata": {},
   "outputs": [],
   "source": [
    "# Select folder with geojson footprints\n",
    "json_folder = os.path.join(folder,\"geojson\")\n",
    "arcpy.env.workspace = foljson_folderder\n",
    "files = [os.path.join(json_folder,file) for file in os.listdir(json_folder)]\n",
    "files"
   ]
  },
  {
   "cell_type": "code",
   "execution_count": null,
   "metadata": {},
   "outputs": [],
   "source": [
    "# move worskpace to new folder and convert geojsons to shapefiles\n",
    "arcpy.env.workspace = os.path.join(folder,\"shapefiles\")\n",
    "arcpy.env.addOutputsToMap = False\n",
    "for path in files:\n",
    "    try:\n",
    "        start = path.rfind(\"_\")\n",
    "        name = path[start+1:-8]\n",
    "        arcpy.conversion.JSONToFeatures(path, name, \"POLYGON\")\n",
    "    except:\n",
    "        pass"
   ]
  },
  {
   "cell_type": "code",
   "execution_count": null,
   "metadata": {},
   "outputs": [],
   "source": [
    "# Merge the shapefiles into single feature class\n",
    "arcpy.env.workspace = os.path.join(folder,\"labels\")\n",
    "shapes = arcpy.ListFeatureClasses()\n",
    "print(shapes)\n",
    "arcpy.management.Merge(shapes,\"oc_merged\")"
   ]
  },
  {
   "cell_type": "code",
   "execution_count": null,
   "metadata": {},
   "outputs": [],
   "source": [
    "# Create a mosaic dataset and add the image rasters"
   ]
  },
  {
   "cell_type": "code",
   "execution_count": null,
   "metadata": {},
   "outputs": [],
   "source": [
    "# Using the DL tools, chip images and labels"
   ]
  },
  {
   "cell_type": "code",
   "execution_count": null,
   "metadata": {},
   "outputs": [],
   "source": [
    "images_folder = os.path.join(folder,\"3band\")\n",
    "labels_folder = os.path.join(folder,\"shapefiles\")\n",
    "out_folder = os.path.join(folder,\"original_resolution\")\n",
    "arcpy.env.workspace = images_folder\n",
    "image_files = arcpy.ListRasters()\n",
    "\n",
    "for file in image_files[:100]:\n",
    "    path = os.path.splitext(file)[0]\n",
    "    number = path[path.find('img')+3:]\n",
    "    try:\n",
    "        img_raster = arcpy.Raster(file)\n",
    "        lab_shape = os.path.join(labels_folder,f\"img{number}.shp\")\n",
    "        name = os.path.join(os.path.join(folder,\"Default.gdb\"),\n",
    "                         f\"img{number}_PolygonToRaster\")\n",
    "        with arcpy.EnvManager(snapRaster=img_raster):\n",
    "            arcpy.conversion.PolygonToRaster(lab_shape, \"uid\", name, \"MAXIMUM_AREA\", \"NONE\", img_raster)\n",
    "        lab_arr = arcpy.RasterToNumPyArray(lab_raster)\n",
    "        lab_arr = lab_arr.astype('uint8') \n",
    "        lab = Image.fromarray(lab_arr)\n",
    "        lab.save(os.path.join(out_folder,\"labels\",f\"label{number}.jpg\"))\n",
    "        img_arr = arcpy.RasterToNumPyArray(img_raster)\n",
    "        img_arr = np.moveaxis(img_arr,0,2)\n",
    "        img = Image.fromarray(img_arr)\n",
    "        img.save(os.path.join(out_folder,\"images\",f\"image{number}.jpg\"))\n",
    "    except:\n",
    "        continue"
   ]
  }
 ],
 "metadata": {
  "kernelspec": {
   "display_name": "Python 3 (ipykernel)",
   "language": "python",
   "name": "python3"
  },
  "language_info": {
   "codemirror_mode": {
    "name": "ipython",
    "version": 3
   },
   "file_extension": ".py",
   "mimetype": "text/x-python",
   "name": "python",
   "nbconvert_exporter": "python",
   "pygments_lexer": "ipython3",
   "version": "3.10.4"
  }
 },
 "nbformat": 4,
 "nbformat_minor": 4
}
